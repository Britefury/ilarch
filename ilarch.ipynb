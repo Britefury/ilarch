{
 "metadata": {
  "name": "",
  "signature": "sha256:27d9823401b078d98e1b4a61c2b99eb125fcdbca73fa3922d45b1238f95e7452"
 },
 "nbformat": 3,
 "nbformat_minor": 0,
 "worksheets": [
  {
   "cells": [
    {
     "cell_type": "code",
     "collapsed": false,
     "input": [
      "import ilarch"
     ],
     "language": "python",
     "metadata": {},
     "outputs": [],
     "prompt_number": 1
    },
    {
     "cell_type": "code",
     "collapsed": false,
     "input": [
      "ilarch.install_ilarch()"
     ],
     "language": "python",
     "metadata": {},
     "outputs": [
      {
       "javascript": [
        "require([\"widgets/js/widget\",\n",
        "    \"components/jquery-ui/ui/minified/jquery-ui.min\"], function(WidgetManager){\n",
        "\n",
        "\n",
        "\n",
        "    var ILarchView = IPython.DOMWidgetView.extend({\n",
        "        initialize: function(parameters) {\n",
        "            this.model.on('msg:custom', this.on_custom_msg, this);\n",
        "        },\n",
        "\n",
        "        render: function(){\n",
        "            var self = this;\n",
        "\n",
        "\n",
        "            this.$content = $('<div>Hello world</div>');\n",
        "            this.$content.appendTo(this.$el);\n",
        "\n",
        "            this.$content.on(\"click\", function() {\n",
        "                console.log(\"clicked\");\n",
        "                //self.on_content_click();\n",
        "            });\n",
        "        },\n",
        "\n",
        "        on_custom_msg: function(msg) {\n",
        "            if (msg.msg_type === \"larch\") {\n",
        "                this.$content.text(msg.data);\n",
        "            }\n",
        "        },\n",
        "\n",
        "        on_content_click: function() {\n",
        "            this.send({event: 'click'});\n",
        "        }\n",
        "    });\n",
        "\n",
        "    // Register the DatePickerView with the widget manager.\n",
        "    WidgetManager.register_widget_view('ILarchView', ILarchView);\n",
        "});\n"
       ],
       "metadata": {},
       "output_type": "display_data",
       "text": [
        "<IPython.core.display.Javascript at 0x36572e8>"
       ]
      }
     ],
     "prompt_number": 2
    },
    {
     "cell_type": "code",
     "collapsed": false,
     "input": [
      "x=ilarch.ILarch()\n",
      "x"
     ],
     "language": "python",
     "metadata": {},
     "outputs": [],
     "prompt_number": 3
    },
    {
     "cell_type": "code",
     "collapsed": false,
     "input": [
      "from IPython.html.widgets import ButtonWidget\n",
      "\n",
      "def on_click(button):\n",
      "    x.send_larch_msg('Test 3')\n",
      "\n",
      "b=ButtonWidget(description='Click me')\n",
      "b.on_click(on_click)\n",
      "b"
     ],
     "language": "python",
     "metadata": {},
     "outputs": [],
     "prompt_number": 4
    }
   ],
   "metadata": {}
  }
 ]
}