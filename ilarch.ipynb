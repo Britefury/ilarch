{
 "metadata": {
  "name": "",
  "signature": "sha256:b9d36b6b0d384bc37e7efe5fe7c914f4520eeda67edf561c9c7705e44d5be2cd"
 },
 "nbformat": 3,
 "nbformat_minor": 0,
 "worksheets": [
  {
   "cells": [
    {
     "cell_type": "code",
     "collapsed": false,
     "input": [
      "import ilarch"
     ],
     "language": "python",
     "metadata": {},
     "outputs": [],
     "prompt_number": 1
    },
    {
     "cell_type": "code",
     "collapsed": false,
     "input": [
      "ilarch.install_ilarch()"
     ],
     "language": "python",
     "metadata": {},
     "outputs": [
      {
       "javascript": [
        "require([\"widgets/js/widget\",\n",
        "    //\"/files/static/larch/larch.js\",\n",
        "    \"components/jquery-ui/ui/minified/jquery-ui.min\"], function(WidgetManager){\n",
        "\n",
        "\n",
        "    var ILarchView = IPython.DOMWidgetView.extend({\n",
        "        render: function(){\n",
        "            var self = this;\n",
        "\n",
        "            this.model.on('msg:custom', this._on_custom_msg, this);\n",
        "\n",
        "            this.$content = $('<div>Hello world</div>');\n",
        "            this.$content.appendTo(this.$el);\n",
        "\n",
        "            this.$content.on(\"click\", function() {\n",
        "                self._send_larch_msg('click_event');\n",
        "            });\n",
        "        },\n",
        "\n",
        "\n",
        "        _send_larch_msg: function(data) {\n",
        "            this.send({msg_type: 'larch', data: data});\n",
        "        },\n",
        "\n",
        "        _on_larch_msg: function(msg_data) {\n",
        "                this.$content.text(msg_data);\n",
        "        },\n",
        "\n",
        "\n",
        "        _on_custom_msg: function(msg) {\n",
        "            if (msg.msg_type === \"larch\") {\n",
        "                this._on_larch_msg(msg.data);\n",
        "            }\n",
        "        }\n",
        "    });\n",
        "\n",
        "    // Register the DatePickerView with the widget manager.\n",
        "    WidgetManager.register_widget_view('ILarchView', ILarchView);\n",
        "});\n"
       ],
       "metadata": {},
       "output_type": "display_data",
       "text": [
        "<IPython.core.display.Javascript at 0x2f86b00>"
       ]
      }
     ],
     "prompt_number": 2
    },
    {
     "cell_type": "code",
     "collapsed": false,
     "input": [
      "def on_larch_msg(msg):\n",
      "    print 'Received {0}'.format(msg)\n",
      "\n",
      "x=ilarch.ILarch()\n",
      "x.on_larch_msg = on_larch_msg\n",
      "x"
     ],
     "language": "python",
     "metadata": {},
     "outputs": [
      {
       "output_type": "stream",
       "stream": "stdout",
       "text": [
        "Received {u'data': u'click_event', u'msg_type': u'larch'}\n"
       ]
      },
      {
       "output_type": "stream",
       "stream": "stdout",
       "text": [
        "Received {u'data': u'click_event', u'msg_type': u'larch'}\n"
       ]
      },
      {
       "output_type": "stream",
       "stream": "stdout",
       "text": [
        "Received {u'data': u'click_event', u'msg_type': u'larch'}\n"
       ]
      },
      {
       "output_type": "stream",
       "stream": "stdout",
       "text": [
        "Received {u'data': u'click_event', u'msg_type': u'larch'}\n"
       ]
      },
      {
       "output_type": "stream",
       "stream": "stdout",
       "text": [
        "Received {u'data': u'click_event', u'msg_type': u'larch'}\n"
       ]
      },
      {
       "output_type": "stream",
       "stream": "stdout",
       "text": [
        "Received {u'data': u'click_event', u'msg_type': u'larch'}\n"
       ]
      },
      {
       "output_type": "stream",
       "stream": "stdout",
       "text": [
        "Received {u'data': u'click_event', u'msg_type': u'larch'}\n"
       ]
      }
     ],
     "prompt_number": 3
    },
    {
     "cell_type": "code",
     "collapsed": false,
     "input": [
      "from IPython.html.widgets import ButtonWidget\n",
      "\n",
      "def on_click(button):\n",
      "    x.send_larch_msg('Test 3')\n",
      "\n",
      "b=ButtonWidget(description='Click me')\n",
      "b.on_click(on_click)\n",
      "b"
     ],
     "language": "python",
     "metadata": {},
     "outputs": [],
     "prompt_number": 4
    },
    {
     "cell_type": "code",
     "collapsed": false,
     "input": [
      "x.count"
     ],
     "language": "python",
     "metadata": {},
     "outputs": [
      {
       "metadata": {},
       "output_type": "pyout",
       "prompt_number": 5,
       "text": [
        "0"
       ]
      }
     ],
     "prompt_number": 5
    }
   ],
   "metadata": {}
  }
 ]
}