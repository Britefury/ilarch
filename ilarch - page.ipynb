{
 "metadata": {
  "name": "",
  "signature": "sha256:44f22d3e853ca672d720feaaaa831c6c692c956eb3d0b610da78844f541ef73a"
 },
 "nbformat": 3,
 "nbformat_minor": 0,
 "worksheets": [
  {
   "cells": [
    {
     "cell_type": "code",
     "collapsed": false,
     "input": [
      "import ilarch\n",
      "from larch.core.dynamicpage.page import DynamicPage\n",
      "from larch.core.dynamicpage import segment"
     ],
     "language": "python",
     "metadata": {},
     "outputs": [],
     "prompt_number": 1
    },
    {
     "cell_type": "code",
     "collapsed": false,
     "input": [
      "ilarch.install_ilarch()"
     ],
     "language": "python",
     "metadata": {},
     "outputs": [
      {
       "javascript": [
        "require([\"widgets/js/widget\",\n",
        "    \"/files/static/larch/larch.js\",\n",
        "    \"components/jquery-ui/ui/minified/jquery-ui.min\"], function(WidgetManager){\n",
        "\n",
        "\n",
        "    var ILarchView = IPython.DOMWidgetView.extend({\n",
        "        render: function(){\n",
        "            var self = this;\n",
        "\n",
        "            this.model.on('msg:custom', this._on_custom_msg, this);\n",
        "\n",
        "            var view_id = self.model.get('view_id_');\n",
        "            var initial_content = self.model.get('initial_content_');\n",
        "            var doc_init_js = self.model.get('doc_init_scripts_');\n",
        "            var initialisers = self.model.get('initialisers_');\n",
        "            var max_inflight = self.model.get('max_inflight_messages_');\n",
        "\n",
        "            var send_events = function(msg) {\n",
        "                self._send_larch_events(msg)\n",
        "            };\n",
        "\n",
        "            self.__larch = Larch(view_id, send_events, max_inflight);\n",
        "\n",
        "            this.$content = $(initial_content);\n",
        "            this.$content.appendTo(this.$el);\n",
        "\n",
        "             setTimeout(function() {\n",
        "                    self.__larch.initialise(initialisers, doc_init_js);\n",
        "                }, 0);\n",
        "        },\n",
        "\n",
        "\n",
        "        _send_larch_events: function(data) {\n",
        "            this.send({msg_type: 'larch_events', data: data});\n",
        "        },\n",
        "\n",
        "        _send_larch_sync: function() {\n",
        "            this.send({msg_type: 'larch_sync'});\n",
        "        },\n",
        "\n",
        "        _on_larch_msg: function(msg_data) {\n",
        "            //this.$content.text(msg_data);\n",
        "            this.__larch.receiveMessagesFromServer(msg_data);\n",
        "        },\n",
        "\n",
        "\n",
        "        _on_custom_msg: function(msg) {\n",
        "            if (msg.msg_type === \"larch_msg_packet\") {\n",
        "                this._on_larch_msg(msg.messages);\n",
        "            }\n",
        "            else if (msg.msg_type === \"larch_sync_request\") {\n",
        "                this._send_larch_sync();\n",
        "            }\n",
        "        }\n",
        "    });\n",
        "\n",
        "    // Register the DatePickerView with the widget manager.\n",
        "    WidgetManager.register_widget_view('ILarchView', ILarchView);\n",
        "});\n"
       ],
       "metadata": {},
       "output_type": "display_data",
       "text": [
        "<IPython.core.display.Javascript at 0x3931ac8>"
       ]
      }
     ],
     "prompt_number": 2
    },
    {
     "cell_type": "code",
     "collapsed": false,
     "input": [
      "page = DynamicPage(None, 'a')\n",
      "seg = page.new_segment(segment.HtmlContent(['<p>Hello world</p>']))\n",
      "page.root_segment = seg"
     ],
     "language": "python",
     "metadata": {},
     "outputs": [
      {
       "output_type": "stream",
       "stream": "stdout",
       "text": [
        "Warning, structure fixing was enabled by HTTP GET parameters, re-implementation required\n"
       ]
      }
     ],
     "prompt_number": 3
    },
    {
     "cell_type": "code",
     "collapsed": false,
     "input": [
      "ilch=ilarch.ILarch(page)\n",
      "ilch"
     ],
     "language": "python",
     "metadata": {},
     "outputs": [
      {
       "output_type": "stream",
       "stream": "stdout",
       "text": [
        "ILarch.__init__: view_id=a, initial_content=<span class=\"__lch_seg_begin\" data-larchsegid=\"seg1\"></span><p>Hello world</p><span class=\"__lch_seg_end\" data-larchsegid=\"seg1\"></span>, doc_init_scripts=[], initialisers=[]\n",
        "CHANGES TO SEND: 0 removed, 0 modified, 0 popups, 0 popup scripts, 0 initialise scripts, 0 shutdown scripts\n"
       ]
      },
      {
       "output_type": "stream",
       "stream": "stdout",
       "text": [
        "CHANGES TO SEND: 0 removed, 1 modified, 0 popups, 0 popup scripts, 0 initialise scripts, 0 shutdown scripts\n"
       ]
      },
      {
       "output_type": "stream",
       "stream": "stdout",
       "text": [
        "CHANGES TO SEND: 0 removed, 1 modified, 0 popups, 0 popup scripts, 0 initialise scripts, 0 shutdown scripts\n"
       ]
      }
     ],
     "prompt_number": 4
    },
    {
     "cell_type": "code",
     "collapsed": false,
     "input": [
      "from IPython.html.widgets import ButtonWidget\n",
      "\n",
      "def on_click(button):\n",
      "    sub_seg = page.new_segment(segment.HtmlContent('<strong>Sub segment</strong>'))\n",
      "    seg.content = segment.HtmlContent(['<p>Test: ', sub_seg.reference(), '</p>'])\n",
      "\n",
      "b=ButtonWidget(description='Click me')\n",
      "b.on_click(on_click)\n",
      "b"
     ],
     "language": "python",
     "metadata": {},
     "outputs": [],
     "prompt_number": 5
    },
    {
     "cell_type": "code",
     "collapsed": false,
     "input": [],
     "language": "python",
     "metadata": {},
     "outputs": [],
     "prompt_number": 5
    }
   ],
   "metadata": {}
  }
 ]
}