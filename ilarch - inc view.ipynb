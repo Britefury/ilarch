{
 "metadata": {
  "name": "",
  "signature": "sha256:3d8d91e8afe90ae1ad6c0cf7e99fb4d34fd01f1c5d651202764da0414bcabdf9"
 },
 "nbformat": 3,
 "nbformat_minor": 0,
 "worksheets": [
  {
   "cells": [
    {
     "cell_type": "code",
     "collapsed": false,
     "input": [
      "import ilarch\n",
      "from larch.core.dynamicpage.page import DynamicPage\n",
      "from larch.core.dynamicpage import segment\n",
      "from larch.core.incremental_view import IncrementalView\n",
      "from larch.core.subject import Subject\n",
      "from larch.pres.html import Html\n",
      "from larch.incremental import IncrementalValueMonitor"
     ],
     "language": "python",
     "metadata": {},
     "outputs": [],
     "prompt_number": 1
    },
    {
     "cell_type": "code",
     "collapsed": false,
     "input": [
      "ilarch.install_ilarch()"
     ],
     "language": "python",
     "metadata": {},
     "outputs": [
      {
       "javascript": [
        "require([\"widgets/js/widget\",\n",
        "    \"/files/static/larch/larch.js\",\n",
        "    \"components/jquery-ui/ui/minified/jquery-ui.min\"], function(WidgetManager){\n",
        "\n",
        "\n",
        "    var ILarchView = IPython.DOMWidgetView.extend({\n",
        "        render: function(){\n",
        "            var self = this;\n",
        "\n",
        "            this.model.on('msg:custom', this._on_custom_msg, this);\n",
        "\n",
        "            var view_id = self.model.get('view_id_');\n",
        "            var initial_content = self.model.get('initial_content_');\n",
        "            var doc_init_js = self.model.get('doc_init_scripts_');\n",
        "            var initialisers = self.model.get('initialisers_');\n",
        "            var max_inflight = self.model.get('max_inflight_messages_');\n",
        "\n",
        "            var send_events = function(msg) {\n",
        "                self._send_larch_events(msg)\n",
        "            };\n",
        "\n",
        "            self.__larch = Larch(view_id, send_events, max_inflight);\n",
        "\n",
        "            this.$content = $(initial_content);\n",
        "            this.$content.appendTo(this.$el);\n",
        "\n",
        "             setTimeout(function() {\n",
        "                    self.__larch.initialise(initialisers, doc_init_js);\n",
        "                }, 0);\n",
        "        },\n",
        "\n",
        "\n",
        "        _send_larch_events: function(data) {\n",
        "            this.send({msg_type: 'larch_events', data: data});\n",
        "        },\n",
        "\n",
        "        _send_larch_sync: function() {\n",
        "            this.send({msg_type: 'larch_sync'});\n",
        "        },\n",
        "\n",
        "        _on_larch_msg: function(msg_data) {\n",
        "            //this.$content.text(msg_data);\n",
        "            this.__larch.receiveMessagesFromServer(msg_data);\n",
        "        },\n",
        "\n",
        "\n",
        "        _on_custom_msg: function(msg) {\n",
        "            if (msg.msg_type === \"larch_msg_packet\") {\n",
        "                this._on_larch_msg(msg.messages);\n",
        "            }\n",
        "            else if (msg.msg_type === \"larch_sync_request\") {\n",
        "                this._send_larch_sync();\n",
        "            }\n",
        "        }\n",
        "    });\n",
        "\n",
        "    // Register the DatePickerView with the widget manager.\n",
        "    WidgetManager.register_widget_view('ILarchView', ILarchView);\n",
        "});\n"
       ],
       "metadata": {},
       "output_type": "display_data",
       "text": [
        "<IPython.core.display.Javascript at 0x1044526d0>"
       ]
      }
     ],
     "prompt_number": 2
    },
    {
     "cell_type": "code",
     "collapsed": false,
     "input": [
      "class X (object):\n",
      "    def __init__(self, content, tag='p'):\n",
      "        self.__tag = tag\n",
      "        self.__content = content\n",
      "        self.__incr = IncrementalValueMonitor()\n",
      "        \n",
      "        \n",
      "    @property\n",
      "    def content(self):\n",
      "        return self.__content\n",
      "    \n",
      "    @content.setter\n",
      "    def content(self, value):\n",
      "        self.__content[:] = value\n",
      "        self.__incr.on_changed()\n",
      "        \n",
      "    def __present__(self, fragment):\n",
      "        self.__incr.on_access()\n",
      "        xs = ['<{0}>'.format(self.__tag)]\n",
      "        xs.extend(self.__content)\n",
      "        xs.append('</{0}>'.format(self.__tag))\n",
      "        return Html(*xs)\n",
      "\n",
      "    \n",
      "class Y (object):\n",
      "    def __init__(self):\n",
      "        self.x = 10\n",
      "        self.y = 20"
     ],
     "language": "python",
     "metadata": {},
     "outputs": [],
     "prompt_number": 3
    },
    {
     "cell_type": "code",
     "collapsed": false,
     "input": [
      "page = DynamicPage(None, 'a')\n",
      "p = X(['Hello world'])\n",
      "view = IncrementalView(Subject(p), page)\n"
     ],
     "language": "python",
     "metadata": {},
     "outputs": [
      {
       "output_type": "stream",
       "stream": "stdout",
       "text": [
        "Warning, structure fixing was enabled by HTTP GET parameters, re-implementation required\n"
       ]
      }
     ],
     "prompt_number": 4
    },
    {
     "cell_type": "code",
     "collapsed": false,
     "input": [
      "ilch=ilarch.ILarch(page)\n",
      "ilch"
     ],
     "language": "python",
     "metadata": {},
     "outputs": [
      {
       "output_type": "stream",
       "stream": "stdout",
       "text": [
        "WARNING: DynamicPage.initial_content: dependencies not processed: [<larch.core.dynamicpage.global_dependencies.GlobalCSS object at 0x1049df850>]\n",
        "ILarch.__init__: view_id=a, initial_content=<span class=\"__lch_seg_begin\" data-larchsegid=\"seg1_X\"></span><p>Hello world</p><span class=\"__lch_seg_end\" data-larchsegid=\"seg1_X\"></span>, doc_init_scripts=[], initialisers=[('seg1_X', ['larch.controls.initObjectInspector(node);'])]\n",
        "CHANGES TO SEND: 0 removed, 0 modified, 0 popups, 0 popup scripts, 0 initialise scripts, 0 shutdown scripts\n"
       ]
      },
      {
       "output_type": "stream",
       "stream": "stdout",
       "text": [
        "TODO: handle escape characters when presenting strings\n",
        "CHANGES TO SEND: 0 removed, 1 modified, 0 popups, 0 popup scripts, 9 initialise scripts, 0 shutdown scripts\n"
       ]
      }
     ],
     "prompt_number": 5
    },
    {
     "cell_type": "code",
     "collapsed": false,
     "input": [
      "from IPython.html.widgets import ButtonWidget\n",
      "\n",
      "def on_click(button):\n",
      "    p.content = p.content + [X(['this is a test'], tag='strong'), Y()]\n",
      "\n",
      "b=ButtonWidget(description='Click me')\n",
      "b.on_click(on_click)\n",
      "b"
     ],
     "language": "python",
     "metadata": {},
     "outputs": [],
     "prompt_number": 6
    },
    {
     "cell_type": "code",
     "collapsed": false,
     "input": [],
     "language": "python",
     "metadata": {},
     "outputs": [],
     "prompt_number": 6
    }
   ],
   "metadata": {}
  }
 ]
}